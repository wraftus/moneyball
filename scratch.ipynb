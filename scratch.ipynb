{
 "cells": [
  {
   "cell_type": "code",
   "execution_count": 1,
   "metadata": {},
   "outputs": [
    {
     "data": {
      "text/plain": [
       "<module 'database' from 'c:\\\\Users\\\\Walter\\\\Desktop\\\\projects\\\\moneyball\\\\database.py'>"
      ]
     },
     "execution_count": 1,
     "metadata": {},
     "output_type": "execute_result"
    }
   ],
   "source": [
    "import importlib\n",
    "import statsapi\n",
    "import database; importlib.reload(database)"
   ]
  },
  {
   "attachments": {},
   "cell_type": "markdown",
   "metadata": {},
   "source": [
    "### Creating a new database and populating it"
   ]
  },
  {
   "cell_type": "code",
   "execution_count": 2,
   "metadata": {},
   "outputs": [],
   "source": [
    "if 'db' in locals(): db.con.close()\n",
    "db = database.make_fresh_database()"
   ]
  },
  {
   "cell_type": "code",
   "execution_count": 3,
   "metadata": {},
   "outputs": [
    {
     "name": "stdout",
     "output_type": "stream",
     "text": [
      "Fetching game schedule for 2013 ...\n",
      "Fetching team roster 30/30 for 2013...\n",
      "Fetching game schedule for 2014 ...\n",
      "Fetching team roster 30/30 for 2014...\n",
      "Fetching game schedule for 2015 ...\n",
      "Fetching team roster 30/30 for 2015...\n",
      "Fetching game schedule for 2016 ...\n",
      "Fetching team roster 30/30 for 2016...\n",
      "Fetching game schedule for 2017 ...\n",
      "Fetching team roster 30/30 for 2017...\n",
      "Fetching game schedule for 2018 ...\n",
      "Fetching team roster 30/30 for 2018...\n",
      "Fetching game schedule for 2019 ...\n",
      "Fetching team roster 30/30 for 2019...\n"
     ]
    }
   ],
   "source": [
    "SEASONS = [2013, 2014, 2015, 2016, 2017, 2018, 2019]\n",
    "for season in SEASONS:\n",
    "    database.collect_season_data(db, season)"
   ]
  },
  {
   "cell_type": "code",
   "execution_count": 7,
   "metadata": {},
   "outputs": [
    {
     "name": "stdout",
     "output_type": "stream",
     "text": [
      "Fetching player stats 2923/2923 ...\n"
     ]
    }
   ],
   "source": [
    "player_ids = set()\n",
    "for season in SEASONS:\n",
    "    season_teams = database.query_teams_in_season(db, season)\n",
    "    for team_roster in database.query_team_rosters(db, season).values():\n",
    "        player_ids.update(team_roster)\n",
    "\n",
    "database.update_players_data(db, player_ids)"
   ]
  }
 ],
 "metadata": {
  "kernelspec": {
   "display_name": "Python 3.9.6 64-bit",
   "language": "python",
   "name": "python3"
  },
  "language_info": {
   "codemirror_mode": {
    "name": "ipython",
    "version": 3
   },
   "file_extension": ".py",
   "mimetype": "text/x-python",
   "name": "python",
   "nbconvert_exporter": "python",
   "pygments_lexer": "ipython3",
   "version": "3.9.6"
  },
  "orig_nbformat": 4,
  "vscode": {
   "interpreter": {
    "hash": "785cc8540b7e9bb207a3eaa019f22c83da6c1e74378852470b535c030727b0ee"
   }
  }
 },
 "nbformat": 4,
 "nbformat_minor": 2
}
