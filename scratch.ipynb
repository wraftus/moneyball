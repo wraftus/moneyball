{
 "metadata": {
  "language_info": {
   "codemirror_mode": {
    "name": "ipython",
    "version": 3
   },
   "file_extension": ".py",
   "mimetype": "text/x-python",
   "name": "python",
   "nbconvert_exporter": "python",
   "pygments_lexer": "ipython3",
   "version": "3.9.5"
  },
  "orig_nbformat": 2,
  "kernelspec": {
   "name": "python395jvsc74a57bd0ce1e901da04acbe50dd99cd0d91cb411cb2166c3507dec81ce620981a8df4741",
   "display_name": "Python 3.9.5 64-bit"
  },
  "metadata": {
   "interpreter": {
    "hash": "ce1e901da04acbe50dd99cd0d91cb411cb2166c3507dec81ce620981a8df4741"
   }
  }
 },
 "nbformat": 4,
 "nbformat_minor": 2,
 "cells": [
  {
   "source": [
    "# Moneyball was a good movie, wasn't it?\n",
    "# https://www.youtube.com/watch?v=Tzin1DgexlE"
   ],
   "cell_type": "code",
   "metadata": {},
   "execution_count": null,
   "outputs": []
  },
  {
   "cell_type": "code",
   "execution_count": 88,
   "metadata": {},
   "outputs": [],
   "source": [
    "import statsapi\n",
    "import re\n",
    "import os"
   ]
  },
  {
   "cell_type": "code",
   "execution_count": 58,
   "metadata": {
    "tags": []
   },
   "outputs": [],
   "source": [
    "# get raw game info and filter out non regular season games\n",
    "games_raw = statsapi.schedule(start_date='03/29/2018',end_date='10/28/2018')\n",
    "games_raw = [game for game in games_raw if game['game_type'] == 'R']"
   ]
  },
  {
   "cell_type": "code",
   "execution_count": 101,
   "metadata": {
    "tags": []
   },
   "outputs": [],
   "source": [
    "# parse through the raw games data\n",
    "games = [] # list of filtered game data\n",
    "team_ids = set([]) # set of unique team ids\n",
    "for raw_game in games_raw[3:]:\n",
    "    # update team_ids with the teams playing\n",
    "    team_ids.add(home_id := raw_game['home_id'])\n",
    "    team_ids.add(away_id := raw_game['away_id'])\n",
    "    \n",
    "    # filter game data\n",
    "    winner = 1 if raw_game['home_score'] > raw_game['away_score'] else -1\n",
    "    games.append({'winner': winner, 'home_id': home_id, 'away_id': away_id})\n"
   ]
  },
  {
   "cell_type": "code",
   "execution_count": 74,
   "metadata": {},
   "outputs": [],
   "source": [
    "# create set of all player names\n",
    "roster_regex = r'#\\d+\\s+(?:\\w|\\d)+\\s+(.*)'\n",
    "player_names = set([])\n",
    "for team_id in team_ids:\n",
    "    roster = statsapi.roster(team_id)\n",
    "    roster_names = re.findall(roster_regex, roster)\n",
    "    player_names.update(roster_names)"
   ]
  },
  {
   "cell_type": "code",
   "execution_count": 83,
   "metadata": {},
   "outputs": [],
   "source": [
    "# create set of all player names and ids\n",
    "players = set([])\n",
    "for player_name in player_names:\n",
    "    player_id = statsapi.lookup_player(player_name)[0]['id']\n",
    "    players.add((player_id, player_name))"
   ]
  },
  {
   "cell_type": "code",
   "execution_count": 107,
   "metadata": {
    "tags": []
   },
   "outputs": [],
   "source": [
    "# print out games, team_ids, and player to file to save API calls\n",
    "if not os.path.isdir('scratch-pad'):\n",
    "    os.mkdir('scratch-pad')\n",
    "\n",
    "with open('scratch-pad/games.pad', 'w') as file:\n",
    "   file.writelines([str(game) + '\\n' for game in games])\n",
    "   \n",
    "with open('scratch-pad/team_ids.pad', 'w') as file:\n",
    "   file.writelines([str(team_id) + '\\n' for team_id in team_ids])\n",
    "   \n",
    "with open('scratch-pad/players.pad', 'w') as file:\n",
    "   file.writelines([str(player) + '\\n' for player in players])"
   ]
  },
  {
   "cell_type": "code",
   "execution_count": 87,
   "metadata": {},
   "outputs": [
    {
     "output_type": "stream",
     "name": "stdout",
     "text": [
      "2487\n2487\ndict_keys(['game_id', 'game_datetime', 'game_date', 'game_type', 'status', 'away_name', 'home_name', 'away_id', 'home_id', 'doubleheader', 'game_num', 'home_probable_pitcher', 'away_probable_pitcher', 'home_pitcher_note', 'away_pitcher_note', 'away_score', 'home_score', 'current_inning', 'inning_state', 'venue_id', 'venue_name', 'winning_team', 'losing_team', 'winning_pitcher', 'losing_pitcher', 'save_pitcher', 'summary'])\n{'R'}\n"
     ]
    }
   ],
   "source": [
    "print(len(games_raw))\n",
    "print(len(games))\n",
    "print(games_raw[0].keys())\n",
    "print(set([g['game_type'] for g in games_raw]))"
   ]
  },
  {
   "cell_type": "code",
   "execution_count": null,
   "metadata": {},
   "outputs": [],
   "source": []
  }
 ]
}