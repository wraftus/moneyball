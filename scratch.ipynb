{
 "cells": [
  {
   "cell_type": "code",
   "execution_count": 1,
   "metadata": {},
   "outputs": [
    {
     "data": {
      "text/plain": [
       "<module 'database' from 'c:\\\\Users\\\\Walter\\\\Desktop\\\\projects\\\\moneyball\\\\database.py'>"
      ]
     },
     "execution_count": 1,
     "metadata": {},
     "output_type": "execute_result"
    }
   ],
   "source": [
    "import importlib\n",
    "import statsapi\n",
    "import database; importlib.reload(database)"
   ]
  },
  {
   "attachments": {},
   "cell_type": "markdown",
   "metadata": {},
   "source": [
    "### Creating a new database and populating it with a season"
   ]
  },
  {
   "cell_type": "code",
   "execution_count": 2,
   "metadata": {},
   "outputs": [],
   "source": [
    "if 'db' in locals(): db.con.close()\n",
    "db = database.make_fresh_database()"
   ]
  },
  {
   "cell_type": "code",
   "execution_count": 3,
   "metadata": {},
   "outputs": [
    {
     "name": "stdout",
     "output_type": "stream",
     "text": [
      "Fetching game schedule for 2018 ...\n",
      "Fetching team roster 30/30 for 2018...\n"
     ]
    }
   ],
   "source": [
    "database.collect_season_data(db, 2018)"
   ]
  },
  {
   "cell_type": "code",
   "execution_count": 4,
   "metadata": {},
   "outputs": [
    {
     "name": "stdout",
     "output_type": "stream",
     "text": [
      "Fetching player stats 1379/1379 ...\n"
     ]
    }
   ],
   "source": [
    "season_teams = database.query_teams_in_season(db, 2018)\n",
    "player_ids = set()\n",
    "for team_roster in database.query_team_rosters(db, 2018).values():\n",
    "    player_ids.update(team_roster)\n",
    "\n",
    "database.update_players_data(db, player_ids)"
   ]
  }
 ],
 "metadata": {
  "kernelspec": {
   "display_name": "Python 3.9.6 64-bit",
   "language": "python",
   "name": "python3"
  },
  "language_info": {
   "codemirror_mode": {
    "name": "ipython",
    "version": 3
   },
   "file_extension": ".py",
   "mimetype": "text/x-python",
   "name": "python",
   "nbconvert_exporter": "python",
   "pygments_lexer": "ipython3",
   "version": "3.9.6"
  },
  "orig_nbformat": 4,
  "vscode": {
   "interpreter": {
    "hash": "785cc8540b7e9bb207a3eaa019f22c83da6c1e74378852470b535c030727b0ee"
   }
  }
 },
 "nbformat": 4,
 "nbformat_minor": 2
}
