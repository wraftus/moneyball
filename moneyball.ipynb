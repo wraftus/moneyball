{
 "cells": [
  {
   "cell_type": "markdown",
   "metadata": {},
   "source": [
    "Moneyball was a good movie, wasn't it? <br>\n",
    "https://www.youtube.com/watch?v=Tzin1DgexlE"
   ]
  },
  {
   "cell_type": "code",
   "execution_count": 1,
   "metadata": {},
   "outputs": [
    {
     "data": {
      "text/plain": [
       "'/device:GPU:0'"
      ]
     },
     "execution_count": 1,
     "metadata": {},
     "output_type": "execute_result"
    }
   ],
   "source": [
    "import statsapi\n",
    "import re\n",
    "import os\n",
    "import ast\n",
    "import json\n",
    "\n",
    "import tensorflow as tf\n",
    "tf.test.gpu_device_name()"
   ]
  },
  {
   "cell_type": "markdown",
   "metadata": {},
   "source": [
    "### Collect Data"
   ]
  },
  {
   "cell_type": "code",
   "execution_count": 4,
   "metadata": {
    "tags": []
   },
   "outputs": [],
   "source": [
    "# get raw game info and filter out non regular season games\n",
    "games_raw = statsapi.schedule(start_date='03/29/2018',end_date='10/28/2018')\n",
    "games_raw = [game for game in games_raw if game['game_type'] == 'R']"
   ]
  },
  {
   "cell_type": "code",
   "execution_count": 5,
   "metadata": {
    "tags": []
   },
   "outputs": [],
   "source": [
    "# parse through the raw games data\n",
    "games = [] # list of filtered game data\n",
    "team_ids = set([]) # set of unique team ids\n",
    "for raw_game in games_raw:    # update team_ids with the teams playing\n",
    "    team_ids.add(home_id := str(raw_game['home_id']))\n",
    "    team_ids.add(away_id := str(raw_game['away_id']))\n",
    "    \n",
    "    # filter game data\n",
    "    winner = 1 if raw_game['home_score'] > raw_game['away_score'] else (0 if raw_game['home_score'] == raw_game['away_score'] else -1)\n",
    "    games.append({'winner': winner, 'home_id': home_id, 'away_id': away_id})\n"
   ]
  },
  {
   "cell_type": "code",
   "execution_count": 6,
   "metadata": {},
   "outputs": [],
   "source": [
    "# create set of all player names\n",
    "roster_regex = r'#\\d+\\s+(?:\\w|\\d)+\\s+(.*)'\n",
    "team_players = {}\n",
    "player_names = set([])\n",
    "for team_id in team_ids:\n",
    "    roster = statsapi.roster(team_id, season='2018')\n",
    "    roster_names = re.findall(roster_regex, roster)\n",
    "    team_players[team_id] = roster_names\n",
    "    player_names.update(roster_names)"
   ]
  },
  {
   "cell_type": "code",
   "execution_count": 9,
   "metadata": {},
   "outputs": [
    {
     "name": "stdout",
     "output_type": "stream",
     "text": [
      "Pings: 1351\r"
     ]
    }
   ],
   "source": [
    "# create set of all player names and ids\n",
    "player_ids = {}\n",
    "ping_count = 0\n",
    "for player_name in player_names:\n",
    "    print(\"Pings: %d\" % ping_count, end='\\r')\n",
    "    ping_count += 1\n",
    "\n",
    "    player_id = statsapi.lookup_player(player_name, season=2018)[0]['id']\n",
    "    player_ids[player_name] = str(player_id)"
   ]
  },
  {
   "cell_type": "code",
   "execution_count": 10,
   "metadata": {},
   "outputs": [
    {
     "name": "stdout",
     "output_type": "stream",
     "text": [
      "Pings: 1351\r"
     ]
    }
   ],
   "source": [
    "# get stats for all players\n",
    "data_regex = r'(\\w+): (\\d*.?\\d+)'\n",
    "player_data = {}\n",
    "broken_players = []\n",
    "ping_count = 0\n",
    "for _, player_id in player_ids.items():\n",
    "    print(\"Pings: %d\" % ping_count, end='\\r')\n",
    "    ping_count += 1\n",
    "    \n",
    "    try:\n",
    "        datalines = statsapi.player_stats(player_id, group='hitting', type='career').splitlines()\n",
    "    except: # TODO what do we do about the missing player data?\n",
    "        broken_players.append(player_id)\n",
    "        continue\n",
    "\n",
    "    data = [re.findall(data_regex, line)[0] for line in datalines if re.findall(data_regex, line)]\n",
    "    player_data[player_id] = {}\n",
    "    for data_key, data in data:\n",
    "        player_data[player_id][data_key] = float(data)"
   ]
  },
  {
   "cell_type": "markdown",
   "metadata": {},
   "source": [
    "### Dump Data"
   ]
  },
  {
   "cell_type": "code",
   "execution_count": 11,
   "metadata": {
    "tags": []
   },
   "outputs": [],
   "source": [
    "# print out games, team_ids, players, and player_data to file to save API calls\n",
    "if not os.path.isdir('raw_data'):\n",
    "   os.mkdir('raw_data')\n",
    "\n",
    "with open('raw_data/games.data', 'w') as file:\n",
    "   file.writelines([str(game) + '\\n' for game in games])\n",
    "   \n",
    "with open('raw_data/team_players.data', 'w') as file:\n",
    "    json.dump(team_players, file, indent=4)\n",
    "   \n",
    "with open('raw_data/player_ids.data', 'w') as file:\n",
    "    json.dump(player_ids, file, indent=4)\n",
    "\n",
    "with open('raw_data/player_data.data', 'w') as file:\n",
    "    json.dump(player_data, file, indent=4)"
   ]
  },
  {
   "cell_type": "markdown",
   "metadata": {},
   "source": [
    "### Read Data"
   ]
  },
  {
   "cell_type": "code",
   "execution_count": 2,
   "metadata": {},
   "outputs": [],
   "source": [
    "# read in games, team_ids, and players from cached files\n",
    "with open('raw_data/games.data', 'r') as file:\n",
    "    games = [ast.literal_eval(line) for line in file]\n",
    "   \n",
    "with open('raw_data/team_players.data', 'r') as file:\n",
    "    team_players = json.load(file)\n",
    "   \n",
    "with open('raw_data/player_ids.data', 'r') as file:\n",
    "    player_ids = json.load(file)\n",
    "\n",
    "with open('raw_data/player_data.data', 'r') as file:\n",
    "    player_data = json.load(file)"
   ]
  },
  {
   "cell_type": "markdown",
   "metadata": {},
   "source": [
    "### Create Dataset"
   ]
  },
  {
   "cell_type": "code",
   "execution_count": 4,
   "metadata": {
    "tags": []
   },
   "outputs": [
    {
     "name": "stdout",
     "output_type": "stream",
     "text": [
      "146 dict_keys(['135', '145', '120', '117', '115', '113', '134', '141', '146', '109', '136', '140', '110', '111', '133', '118', '121', '137', '158', '119', '114', '139', '138', '142', '108', '112', '116', '147', '144', '143'])\n",
      "26\n"
     ]
    },
    {
     "ename": "NameError",
     "evalue": "name 'torch' is not defined",
     "output_type": "error",
     "traceback": [
      "\u001b[1;31m---------------------------------------------------------------------------\u001b[0m",
      "\u001b[1;31mNameError\u001b[0m                                 Traceback (most recent call last)",
      "\u001b[1;32m~\\AppData\\Local\\Temp/ipykernel_44380/464563154.py\u001b[0m in \u001b[0;36m<module>\u001b[1;34m\u001b[0m\n\u001b[0;32m     32\u001b[0m \u001b[1;33m\u001b[0m\u001b[0m\n\u001b[0;32m     33\u001b[0m     \u001b[1;31m# turn them into tensorflow data\u001b[0m\u001b[1;33m\u001b[0m\u001b[1;33m\u001b[0m\u001b[1;33m\u001b[0m\u001b[0m\n\u001b[1;32m---> 34\u001b[1;33m     \u001b[0mhome_vectors\u001b[0m \u001b[1;33m=\u001b[0m \u001b[0mtorch\u001b[0m\u001b[1;33m.\u001b[0m\u001b[0mtensor\u001b[0m\u001b[1;33m(\u001b[0m\u001b[1;33m[\u001b[0m\u001b[0mhome_vectors\u001b[0m\u001b[1;33m]\u001b[0m\u001b[1;33m)\u001b[0m\u001b[1;33m.\u001b[0m\u001b[0mdouble\u001b[0m\u001b[1;33m(\u001b[0m\u001b[1;33m)\u001b[0m\u001b[1;33m\u001b[0m\u001b[1;33m\u001b[0m\u001b[0m\n\u001b[0m\u001b[0;32m     35\u001b[0m     \u001b[0maway_vectors\u001b[0m \u001b[1;33m=\u001b[0m \u001b[0mtorch\u001b[0m\u001b[1;33m.\u001b[0m\u001b[0mtensor\u001b[0m\u001b[1;33m(\u001b[0m\u001b[1;33m[\u001b[0m\u001b[0maway_vectors\u001b[0m\u001b[1;33m]\u001b[0m\u001b[1;33m)\u001b[0m\u001b[1;33m.\u001b[0m\u001b[0mdouble\u001b[0m\u001b[1;33m(\u001b[0m\u001b[1;33m)\u001b[0m\u001b[1;33m\u001b[0m\u001b[1;33m\u001b[0m\u001b[0m\n\u001b[0;32m     36\u001b[0m \u001b[1;33m\u001b[0m\u001b[0m\n",
      "\u001b[1;31mNameError\u001b[0m: name 'torch' is not defined"
     ]
    }
   ],
   "source": [
    "# create a data set for the model\n",
    "X = []\n",
    "Y = []\n",
    "feature_fields = ['avg', 'obp', 'slg', 'ops']\n",
    "for game in games:\n",
    "    # don't include tied games\n",
    "    if game['winner'] == 0: continue\n",
    "\n",
    "    print(game['home_id'], team_players.keys())\n",
    "    # get the roster for the two playing teams\n",
    "    home_roster = team_players[game['home_id']]\n",
    "    away_roster = team_players[game['away_id']]\n",
    "    \n",
    "    # get the full player data for everyone on both teams\n",
    "    home_players = [player_data[player_ids[player]] for player in home_roster if player_ids[player] in player_data]\n",
    "    away_players = [player_data[player_ids[player]] for player in away_roster if player_ids[player] in player_data]\n",
    "\n",
    "    # extract the features we care about into player vectors for both teams\n",
    "    home_vectors = [[data[field] for field in feature_fields] for data in home_players if data['gamesPlayed'] > 100]\n",
    "    away_vectors = [[data[field] for field in feature_fields] for data in home_players if data['gamesPlayed'] > 100]\n",
    "\n",
    "    # remove ones with all zeros\n",
    "    home_vectors = [vec for vec in home_vectors if any(e != 0 for e in vec)]\n",
    "    away_vectors = [vec for vec in away_vectors if any(e != 0 for e in vec)]\n",
    "\n",
    "    if len(home_vectors) == 0 or len(away_vectors) == 0:\n",
    "        raise Exception\n",
    "\n",
    "    # TODO: augment data with permutations and wrap all in tf/keras dataset\n",
    "    for _ in range((NUM_PERM := 10)):\n",
    "        print(len(home_vectors))\n",
    "        break"
   ]
  },
  {
   "cell_type": "markdown",
   "metadata": {},
   "source": [
    "### Model Definition\n",
    "Model & problem folumation relies heavily on the [Deepset](https://arxiv.org/pdf/1703.06114.pdf#page=9&zoom=100,150,325) paper\n",
    "\n",
    "**Problem**\n",
    "- We want to compare two teams based on the performance of their players\n",
    "- Players are encoded as an $R^n$ feature vector\n",
    "- We are given two teams, each a Set $T$ of players $(T \\subset 2^{R^n})$, and one of $\\{1, 0, -1\\}$ depending on the outcome of a game\n",
    "\n",
    "**Model**\n",
    "- I train a model to \"encode\" any given team into a single real value. This \"score\" value can be used to compare teams directly.\n",
    "- This model has two parts\n",
    "    - $ \\phi : R^N \\to R^M$ takes a player ($x \\in R^N$) and returns an \"embedding\" ($\\phi(x) \\in R^M$) of that player\n",
    "    - $ \\rho : 2^{R^M} \\to R$ takes a set of embedded players $(\\{\\phi(x_i)\\} \\in 2^{R^M})$ and returns the team's score $(\\rho(\\sum^{|T|}_i\\phi({x_i})) \\in R)$\n",
    "- To use this model, we apply $\\rho$ to both teams. If the first team's score is higher, we return 1. If not we return -1. (I filtered out the ties. I'll figure those out later)"
   ]
  },
  {
   "cell_type": "code",
   "execution_count": null,
   "metadata": {},
   "outputs": [],
   "source": [
    "# get feature dim and choose embedding dim\n",
    "N = len(feature_fields)\n",
    "M = N\n",
    "\n",
    "# function to spawn a keras implementation of the phi approximator\n",
    "def PHI():\n",
    "    return tf.keras.Sequential([\n",
    "                tf.keras.layers.Dense(N*4, activation='relu'),\n",
    "                tf.keras.layers.Dense(N*4, activation='relu'),\n",
    "                tf.keras.layers.Dense(M)\n",
    "            ])\n",
    "\n",
    "# function to spawn a keras implementation of the rho approximator\n",
    "def RHO():\n",
    "    return tf.keras.Sequential([\n",
    "        tf.keras.layers.Dense(M*4, activation='relu')\n",
    "        tf.keras.layers.Dense(M*4, activation='relu')\n",
    "        tf.keras.layers.Dense(1, activation='tanh')\n",
    "    ])"
   ]
  },
  {
   "cell_type": "code",
   "execution_count": 6,
   "metadata": {},
   "outputs": [],
   "source": [
    "# \\/ \\/ \\/ \\/ \\/ \\/ \\/ TO DELETE \\/ \\/ \\/ \\/ \\/ \\/ \\/ "
   ]
  },
  {
   "cell_type": "code",
   "execution_count": null,
   "metadata": {
    "tags": []
   },
   "outputs": [],
   "source": [
    "# sub-model: encodes a team (list of feature vectors) into a single vector\n",
    "PLAYER_FEATS = len(feature_fields)\n",
    "LSTM_OUT_FEATS = 4\n",
    "class TeamEncoder(nn.Module):\n",
    "    def __init__(self):\n",
    "        super(TeamEncoder, self).__init__()\n",
    "        self.lstm = nn.LSTM(input_size=PLAYER_FEATS,\n",
    "                            hidden_size=LSTM_OUT_FEATS,\n",
    "                            num_layers=1,\n",
    "                            batch_first=True)\n",
    "\n",
    "    def forward(self, x):\n",
    "        return self.lstm(x)\n",
    "\n",
    "# sub-model: estimates winner given a \"game vector\"\n",
    "class GamePredictor(nn.Module):\n",
    "    def __init__(self):\n",
    "        super(GamePredictor, self).__init__()\n",
    "        self.l1 = nn.Linear(LSTM_OUT_FEATS, 4)\n",
    "        self.l2 = nn.Linear(4, 4)\n",
    "        self.l3 = nn.Linear(4, 1)\n",
    "\n",
    "    def forward(self, x):\n",
    "        x = torch.tanh(self.l1(x))\n",
    "        x = torch.tanh(self.l2(x))\n",
    "        x = torch.sigmoid(self.l3(x))\n",
    "        return x"
   ]
  },
  {
   "cell_type": "code",
   "execution_count": null,
   "metadata": {},
   "outputs": [
    {
     "ename": "RuntimeError",
     "evalue": "mat1 and mat2 shapes cannot be multiplied (1x4 and 8x4)",
     "output_type": "error",
     "traceback": [
      "\u001b[1;31m---------------------------------------------------------------------------\u001b[0m",
      "\u001b[1;31mRuntimeError\u001b[0m                              Traceback (most recent call last)",
      "\u001b[1;32m<ipython-input-51-38f12f57366d>\u001b[0m in \u001b[0;36m<module>\u001b[1;34m\u001b[0m\n\u001b[0;32m     24\u001b[0m         \u001b[1;31m# game_enc = torch.cat((home_enc, away_enc), dim=2)\u001b[0m\u001b[1;33m\u001b[0m\u001b[1;33m\u001b[0m\u001b[1;33m\u001b[0m\u001b[0m\n\u001b[0;32m     25\u001b[0m         \u001b[0mgame_enc\u001b[0m \u001b[1;33m=\u001b[0m \u001b[0mhome_enc\u001b[0m \u001b[1;33m-\u001b[0m \u001b[0maway_enc\u001b[0m\u001b[1;33m\u001b[0m\u001b[1;33m\u001b[0m\u001b[0m\n\u001b[1;32m---> 26\u001b[1;33m         \u001b[0mpred\u001b[0m \u001b[1;33m=\u001b[0m \u001b[0mgame_predictor\u001b[0m\u001b[1;33m(\u001b[0m\u001b[0mgame_enc\u001b[0m\u001b[1;33m)\u001b[0m\u001b[1;33m.\u001b[0m\u001b[0mreshape\u001b[0m\u001b[1;33m(\u001b[0m\u001b[1;33m(\u001b[0m\u001b[1;36m1\u001b[0m\u001b[1;33m,\u001b[0m\u001b[1;36m1\u001b[0m\u001b[1;33m)\u001b[0m\u001b[1;33m)\u001b[0m\u001b[1;33m\u001b[0m\u001b[1;33m\u001b[0m\u001b[0m\n\u001b[0m\u001b[0;32m     27\u001b[0m \u001b[1;33m\u001b[0m\u001b[0m\n\u001b[0;32m     28\u001b[0m         \u001b[1;31m# calculate loss for this game and back propigate\u001b[0m\u001b[1;33m\u001b[0m\u001b[1;33m\u001b[0m\u001b[1;33m\u001b[0m\u001b[0m\n",
      "\u001b[1;32m~\\AppData\\Local\\Packages\\PythonSoftwareFoundation.Python.3.9_qbz5n2kfra8p0\\LocalCache\\local-packages\\Python39\\site-packages\\torch\\nn\\modules\\module.py\u001b[0m in \u001b[0;36m_call_impl\u001b[1;34m(self, *input, **kwargs)\u001b[0m\n\u001b[0;32m    887\u001b[0m             \u001b[0mresult\u001b[0m \u001b[1;33m=\u001b[0m \u001b[0mself\u001b[0m\u001b[1;33m.\u001b[0m\u001b[0m_slow_forward\u001b[0m\u001b[1;33m(\u001b[0m\u001b[1;33m*\u001b[0m\u001b[0minput\u001b[0m\u001b[1;33m,\u001b[0m \u001b[1;33m**\u001b[0m\u001b[0mkwargs\u001b[0m\u001b[1;33m)\u001b[0m\u001b[1;33m\u001b[0m\u001b[1;33m\u001b[0m\u001b[0m\n\u001b[0;32m    888\u001b[0m         \u001b[1;32melse\u001b[0m\u001b[1;33m:\u001b[0m\u001b[1;33m\u001b[0m\u001b[1;33m\u001b[0m\u001b[0m\n\u001b[1;32m--> 889\u001b[1;33m             \u001b[0mresult\u001b[0m \u001b[1;33m=\u001b[0m \u001b[0mself\u001b[0m\u001b[1;33m.\u001b[0m\u001b[0mforward\u001b[0m\u001b[1;33m(\u001b[0m\u001b[1;33m*\u001b[0m\u001b[0minput\u001b[0m\u001b[1;33m,\u001b[0m \u001b[1;33m**\u001b[0m\u001b[0mkwargs\u001b[0m\u001b[1;33m)\u001b[0m\u001b[1;33m\u001b[0m\u001b[1;33m\u001b[0m\u001b[0m\n\u001b[0m\u001b[0;32m    890\u001b[0m         for hook in itertools.chain(\n\u001b[0;32m    891\u001b[0m                 \u001b[0m_global_forward_hooks\u001b[0m\u001b[1;33m.\u001b[0m\u001b[0mvalues\u001b[0m\u001b[1;33m(\u001b[0m\u001b[1;33m)\u001b[0m\u001b[1;33m,\u001b[0m\u001b[1;33m\u001b[0m\u001b[1;33m\u001b[0m\u001b[0m\n",
      "\u001b[1;32m<ipython-input-40-1b59f5d7f5da>\u001b[0m in \u001b[0;36mforward\u001b[1;34m(self, x)\u001b[0m\n\u001b[0;32m     22\u001b[0m \u001b[1;33m\u001b[0m\u001b[0m\n\u001b[0;32m     23\u001b[0m     \u001b[1;32mdef\u001b[0m \u001b[0mforward\u001b[0m\u001b[1;33m(\u001b[0m\u001b[0mself\u001b[0m\u001b[1;33m,\u001b[0m \u001b[0mx\u001b[0m\u001b[1;33m)\u001b[0m\u001b[1;33m:\u001b[0m\u001b[1;33m\u001b[0m\u001b[1;33m\u001b[0m\u001b[0m\n\u001b[1;32m---> 24\u001b[1;33m         \u001b[0mx\u001b[0m \u001b[1;33m=\u001b[0m \u001b[0mtorch\u001b[0m\u001b[1;33m.\u001b[0m\u001b[0mtanh\u001b[0m\u001b[1;33m(\u001b[0m\u001b[0mself\u001b[0m\u001b[1;33m.\u001b[0m\u001b[0ml1\u001b[0m\u001b[1;33m(\u001b[0m\u001b[0mx\u001b[0m\u001b[1;33m)\u001b[0m\u001b[1;33m)\u001b[0m\u001b[1;33m\u001b[0m\u001b[1;33m\u001b[0m\u001b[0m\n\u001b[0m\u001b[0;32m     25\u001b[0m         \u001b[0mx\u001b[0m \u001b[1;33m=\u001b[0m \u001b[0mtorch\u001b[0m\u001b[1;33m.\u001b[0m\u001b[0mtanh\u001b[0m\u001b[1;33m(\u001b[0m\u001b[0mself\u001b[0m\u001b[1;33m.\u001b[0m\u001b[0ml2\u001b[0m\u001b[1;33m(\u001b[0m\u001b[0mx\u001b[0m\u001b[1;33m)\u001b[0m\u001b[1;33m)\u001b[0m\u001b[1;33m\u001b[0m\u001b[1;33m\u001b[0m\u001b[0m\n\u001b[0;32m     26\u001b[0m         \u001b[0mx\u001b[0m \u001b[1;33m=\u001b[0m \u001b[0mtorch\u001b[0m\u001b[1;33m.\u001b[0m\u001b[0msigmoid\u001b[0m\u001b[1;33m(\u001b[0m\u001b[0mself\u001b[0m\u001b[1;33m.\u001b[0m\u001b[0ml3\u001b[0m\u001b[1;33m(\u001b[0m\u001b[0mx\u001b[0m\u001b[1;33m)\u001b[0m\u001b[1;33m)\u001b[0m\u001b[1;33m\u001b[0m\u001b[1;33m\u001b[0m\u001b[0m\n",
      "\u001b[1;32m~\\AppData\\Local\\Packages\\PythonSoftwareFoundation.Python.3.9_qbz5n2kfra8p0\\LocalCache\\local-packages\\Python39\\site-packages\\torch\\nn\\modules\\module.py\u001b[0m in \u001b[0;36m_call_impl\u001b[1;34m(self, *input, **kwargs)\u001b[0m\n\u001b[0;32m    887\u001b[0m             \u001b[0mresult\u001b[0m \u001b[1;33m=\u001b[0m \u001b[0mself\u001b[0m\u001b[1;33m.\u001b[0m\u001b[0m_slow_forward\u001b[0m\u001b[1;33m(\u001b[0m\u001b[1;33m*\u001b[0m\u001b[0minput\u001b[0m\u001b[1;33m,\u001b[0m \u001b[1;33m**\u001b[0m\u001b[0mkwargs\u001b[0m\u001b[1;33m)\u001b[0m\u001b[1;33m\u001b[0m\u001b[1;33m\u001b[0m\u001b[0m\n\u001b[0;32m    888\u001b[0m         \u001b[1;32melse\u001b[0m\u001b[1;33m:\u001b[0m\u001b[1;33m\u001b[0m\u001b[1;33m\u001b[0m\u001b[0m\n\u001b[1;32m--> 889\u001b[1;33m             \u001b[0mresult\u001b[0m \u001b[1;33m=\u001b[0m \u001b[0mself\u001b[0m\u001b[1;33m.\u001b[0m\u001b[0mforward\u001b[0m\u001b[1;33m(\u001b[0m\u001b[1;33m*\u001b[0m\u001b[0minput\u001b[0m\u001b[1;33m,\u001b[0m \u001b[1;33m**\u001b[0m\u001b[0mkwargs\u001b[0m\u001b[1;33m)\u001b[0m\u001b[1;33m\u001b[0m\u001b[1;33m\u001b[0m\u001b[0m\n\u001b[0m\u001b[0;32m    890\u001b[0m         for hook in itertools.chain(\n\u001b[0;32m    891\u001b[0m                 \u001b[0m_global_forward_hooks\u001b[0m\u001b[1;33m.\u001b[0m\u001b[0mvalues\u001b[0m\u001b[1;33m(\u001b[0m\u001b[1;33m)\u001b[0m\u001b[1;33m,\u001b[0m\u001b[1;33m\u001b[0m\u001b[1;33m\u001b[0m\u001b[0m\n",
      "\u001b[1;32m~\\AppData\\Local\\Packages\\PythonSoftwareFoundation.Python.3.9_qbz5n2kfra8p0\\LocalCache\\local-packages\\Python39\\site-packages\\torch\\nn\\modules\\linear.py\u001b[0m in \u001b[0;36mforward\u001b[1;34m(self, input)\u001b[0m\n\u001b[0;32m     92\u001b[0m \u001b[1;33m\u001b[0m\u001b[0m\n\u001b[0;32m     93\u001b[0m     \u001b[1;32mdef\u001b[0m \u001b[0mforward\u001b[0m\u001b[1;33m(\u001b[0m\u001b[0mself\u001b[0m\u001b[1;33m,\u001b[0m \u001b[0minput\u001b[0m\u001b[1;33m:\u001b[0m \u001b[0mTensor\u001b[0m\u001b[1;33m)\u001b[0m \u001b[1;33m->\u001b[0m \u001b[0mTensor\u001b[0m\u001b[1;33m:\u001b[0m\u001b[1;33m\u001b[0m\u001b[1;33m\u001b[0m\u001b[0m\n\u001b[1;32m---> 94\u001b[1;33m         \u001b[1;32mreturn\u001b[0m \u001b[0mF\u001b[0m\u001b[1;33m.\u001b[0m\u001b[0mlinear\u001b[0m\u001b[1;33m(\u001b[0m\u001b[0minput\u001b[0m\u001b[1;33m,\u001b[0m \u001b[0mself\u001b[0m\u001b[1;33m.\u001b[0m\u001b[0mweight\u001b[0m\u001b[1;33m,\u001b[0m \u001b[0mself\u001b[0m\u001b[1;33m.\u001b[0m\u001b[0mbias\u001b[0m\u001b[1;33m)\u001b[0m\u001b[1;33m\u001b[0m\u001b[1;33m\u001b[0m\u001b[0m\n\u001b[0m\u001b[0;32m     95\u001b[0m \u001b[1;33m\u001b[0m\u001b[0m\n\u001b[0;32m     96\u001b[0m     \u001b[1;32mdef\u001b[0m \u001b[0mextra_repr\u001b[0m\u001b[1;33m(\u001b[0m\u001b[0mself\u001b[0m\u001b[1;33m)\u001b[0m \u001b[1;33m->\u001b[0m \u001b[0mstr\u001b[0m\u001b[1;33m:\u001b[0m\u001b[1;33m\u001b[0m\u001b[1;33m\u001b[0m\u001b[0m\n",
      "\u001b[1;32m~\\AppData\\Local\\Packages\\PythonSoftwareFoundation.Python.3.9_qbz5n2kfra8p0\\LocalCache\\local-packages\\Python39\\site-packages\\torch\\nn\\functional.py\u001b[0m in \u001b[0;36mlinear\u001b[1;34m(input, weight, bias)\u001b[0m\n\u001b[0;32m   1751\u001b[0m     \u001b[1;32mif\u001b[0m \u001b[0mhas_torch_function_variadic\u001b[0m\u001b[1;33m(\u001b[0m\u001b[0minput\u001b[0m\u001b[1;33m,\u001b[0m \u001b[0mweight\u001b[0m\u001b[1;33m)\u001b[0m\u001b[1;33m:\u001b[0m\u001b[1;33m\u001b[0m\u001b[1;33m\u001b[0m\u001b[0m\n\u001b[0;32m   1752\u001b[0m         \u001b[1;32mreturn\u001b[0m \u001b[0mhandle_torch_function\u001b[0m\u001b[1;33m(\u001b[0m\u001b[0mlinear\u001b[0m\u001b[1;33m,\u001b[0m \u001b[1;33m(\u001b[0m\u001b[0minput\u001b[0m\u001b[1;33m,\u001b[0m \u001b[0mweight\u001b[0m\u001b[1;33m)\u001b[0m\u001b[1;33m,\u001b[0m \u001b[0minput\u001b[0m\u001b[1;33m,\u001b[0m \u001b[0mweight\u001b[0m\u001b[1;33m,\u001b[0m \u001b[0mbias\u001b[0m\u001b[1;33m=\u001b[0m\u001b[0mbias\u001b[0m\u001b[1;33m)\u001b[0m\u001b[1;33m\u001b[0m\u001b[1;33m\u001b[0m\u001b[0m\n\u001b[1;32m-> 1753\u001b[1;33m     \u001b[1;32mreturn\u001b[0m \u001b[0mtorch\u001b[0m\u001b[1;33m.\u001b[0m\u001b[0m_C\u001b[0m\u001b[1;33m.\u001b[0m\u001b[0m_nn\u001b[0m\u001b[1;33m.\u001b[0m\u001b[0mlinear\u001b[0m\u001b[1;33m(\u001b[0m\u001b[0minput\u001b[0m\u001b[1;33m,\u001b[0m \u001b[0mweight\u001b[0m\u001b[1;33m,\u001b[0m \u001b[0mbias\u001b[0m\u001b[1;33m)\u001b[0m\u001b[1;33m\u001b[0m\u001b[1;33m\u001b[0m\u001b[0m\n\u001b[0m\u001b[0;32m   1754\u001b[0m \u001b[1;33m\u001b[0m\u001b[0m\n\u001b[0;32m   1755\u001b[0m \u001b[1;33m\u001b[0m\u001b[0m\n",
      "\u001b[1;31mRuntimeError\u001b[0m: mat1 and mat2 shapes cannot be multiplied (1x4 and 8x4)"
     ]
    }
   ],
   "source": [
    "# create instances of the two sub-models\n",
    "team_encoder = TeamEncoder().double()\n",
    "game_predictor = GamePredictor().double()\n",
    "\n",
    "# create loss and optimizer\n",
    "loss_func = nn.BCELoss()\n",
    "team_optim = optim.SGD(team_encoder.parameters(), lr=0.01)\n",
    "game_optim = optim.SGD(game_predictor.parameters(), lr=0.01)\n",
    "\n",
    "# train the TeamEncoder and GamePredictor models\n",
    "for epoch in range(300):\n",
    "    # zero the grads to start each epoch\n",
    "    team_optim.zero_grad()\n",
    "    game_optim.zero_grad()\n",
    "    \n",
    "    # loop through each of the games\n",
    "    avg_loss = 0\n",
    "    for (home_vec, away_vec), winner in zip(X, Y):\n",
    "        # encode the two teams using the TeamEncoder model\n",
    "        _, (home_enc, _) = team_encoder(home_vec)\n",
    "        _, (away_enc, _) = team_encoder(away_vec)\n",
    "\n",
    "        # concatenate the two team encodings and pass it through the game predictor\n",
    "        # game_enc = torch.cat((home_enc, away_enc), dim=2)\n",
    "        game_enc = home_enc - away_enc\n",
    "        pred = game_predictor(game_enc).reshape((1,1))\n",
    "        \n",
    "        # calculate loss for this game and back propigate\n",
    "        loss = loss_func(pred, winner)\n",
    "        loss.backward()\n",
    "        avg_loss += loss.item() / len(X)\n",
    "\n",
    "        #if epoch == 0:\n",
    "        #    print(game_enc)\n",
    "        #    print(pred)\n",
    "        #    print('---------------------------------------')\n",
    "\n",
    "    # step our two optimizers\n",
    "    team_optim.step()\n",
    "    game_optim.step()\n",
    "    if epoch % 10 == 0:\n",
    "        print(avg_loss)"
   ]
  },
  {
   "cell_type": "code",
   "execution_count": null,
   "metadata": {},
   "outputs": [],
   "source": []
  }
 ],
 "metadata": {
  "interpreter": {
   "hash": "ce1e901da04acbe50dd99cd0d91cb411cb2166c3507dec81ce620981a8df4741"
  },
  "kernelspec": {
   "display_name": "Python 3",
   "language": "python",
   "name": "python3"
  },
  "language_info": {
   "codemirror_mode": {
    "name": "ipython",
    "version": 3
   },
   "file_extension": ".py",
   "mimetype": "text/x-python",
   "name": "python",
   "nbconvert_exporter": "python",
   "pygments_lexer": "ipython3",
   "version": "3.9.6"
  },
  "metadata": {
   "interpreter": {
    "hash": "ce1e901da04acbe50dd99cd0d91cb411cb2166c3507dec81ce620981a8df4741"
   }
  }
 },
 "nbformat": 4,
 "nbformat_minor": 2
}
