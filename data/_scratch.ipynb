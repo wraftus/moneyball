{
 "cells": [
  {
   "cell_type": "code",
   "execution_count": 1,
   "metadata": {},
   "outputs": [
    {
     "data": {
      "text/plain": [
       "<module 'database' from 'c:\\\\Users\\\\Walter\\\\Desktop\\\\projects\\\\moneyball\\\\data\\\\database.py'>"
      ]
     },
     "execution_count": 1,
     "metadata": {},
     "output_type": "execute_result"
    }
   ],
   "source": [
    "import importlib\n",
    "import statsapi\n",
    "import database; importlib.reload(database)"
   ]
  },
  {
   "attachments": {},
   "cell_type": "markdown",
   "metadata": {},
   "source": [
    "### Creating a new database and populating it with a season"
   ]
  },
  {
   "cell_type": "code",
   "execution_count": 6,
   "metadata": {},
   "outputs": [],
   "source": [
    "if 'db' in locals(): db.con.close()\n",
    "db = database.make_fresh_database()"
   ]
  },
  {
   "cell_type": "code",
   "execution_count": 7,
   "metadata": {},
   "outputs": [
    {
     "name": "stdout",
     "output_type": "stream",
     "text": [
      "Fetching game schedule for 2018 ...\n",
      "Fetching team roster 30/30 ...\n"
     ]
    }
   ],
   "source": [
    "database.collect_season_data(db, 2018)"
   ]
  },
  {
   "cell_type": "code",
   "execution_count": 8,
   "metadata": {},
   "outputs": [
    {
     "name": "stdout",
     "output_type": "stream",
     "text": [
      "Fetching player stats 1379/1379 ...\n"
     ]
    }
   ],
   "source": [
    "season_teams = database.query_teams_in_season(db, 2018)\n",
    "player_ids = set()\n",
    "for team_roster in database.query_team_rosters(db, 2018).values():\n",
    "    player_ids.update(team_roster)\n",
    "\n",
    "database.update_players_data(db, player_ids)"
   ]
  },
  {
   "cell_type": "markdown",
   "metadata": {},
   "source": [
    "---"
   ]
  },
  {
   "cell_type": "markdown",
   "metadata": {},
   "source": [
    "### Determine player stat keys"
   ]
  },
  {
   "cell_type": "code",
   "execution_count": 2,
   "metadata": {},
   "outputs": [],
   "source": [
    "team_id = 118\n",
    "res = statsapi.get('team_roster', {'teamId': team_id, 'season': 2018})\n",
    "players = [player['person']['id'] for player in res['roster']]\n",
    "player_ress = [statsapi.player_stat_data(player, type=\"career\") for player in players]"
   ]
  },
  {
   "cell_type": "code",
   "execution_count": 3,
   "metadata": {},
   "outputs": [],
   "source": [
    "player_stats = dict()\n",
    "for player_res in player_ress:\n",
    "    # extract stat groups for each player\n",
    "    player_stats[player_res['id']] = dict()\n",
    "    for stats_group in player_res['stats']:\n",
    "        # extract the group's name and stats\n",
    "        group_name = stats_group['group']\n",
    "        group_stats = stats_group['stats'].copy()\n",
    "\n",
    "        # fielding is further divided by position, with a type + code\n",
    "        if group_name.lower() == 'fielding':\n",
    "            field_code = group_stats['position']['code']\n",
    "            group_name = f\"{group_name}_{int(field_code)-1}\"\n",
    "\n",
    "            del group_stats['position']\n",
    "\n",
    "        player_stats[player_res['id']][group_name] = group_stats"
   ]
  },
  {
   "cell_type": "code",
   "execution_count": 4,
   "metadata": {},
   "outputs": [],
   "source": [
    "stat_group_keys = dict()\n",
    "player_ids = list(player_stats.keys())\n",
    "for group_name, stat_group in player_stats[player_ids[0]].items():\n",
    "    stat_group_keys[group_name] = set(stat_group.keys())\n",
    "for player_id in player_ids:\n",
    "    for group_name, stat_group in player_stats[player_id].items():\n",
    "        if group_name not in stat_group_keys:\n",
    "            stat_group_keys[group_name] = set(stat_group.keys())\n",
    "        elif set(stat_group.keys()) != stat_group_keys[group_name]:\n",
    "            print(f\"Group Keys did not match {player_id}, {group_name}\")\n",
    "            print(set(stat_group.keys()))\n",
    "            print(stat_group_keys[group_name])\n",
    "            print(\"\\n--------------------------------------------\")"
   ]
  },
  {
   "cell_type": "code",
   "execution_count": 5,
   "metadata": {},
   "outputs": [],
   "source": [
    "import json\n",
    "\n",
    "with open(database.PLAYER_DATADEF_FILE, 'w') as file:\n",
    "    player_datadef = dict()\n",
    "    (stat_groups := [stat_group for stat_group in stat_group_keys.keys()]).sort()\n",
    "    for stat_group in stat_groups:\n",
    "        player_datadef[stat_group] = list(stat_group_keys[stat_group])\n",
    "    json.dump(player_datadef, file, indent=4)"
   ]
  }
 ],
 "metadata": {
  "kernelspec": {
   "display_name": "Python 3.9.6 64-bit",
   "language": "python",
   "name": "python3"
  },
  "language_info": {
   "codemirror_mode": {
    "name": "ipython",
    "version": 3
   },
   "file_extension": ".py",
   "mimetype": "text/x-python",
   "name": "python",
   "nbconvert_exporter": "python",
   "pygments_lexer": "ipython3",
   "version": "3.9.6"
  },
  "orig_nbformat": 4,
  "vscode": {
   "interpreter": {
    "hash": "785cc8540b7e9bb207a3eaa019f22c83da6c1e74378852470b535c030727b0ee"
   }
  }
 },
 "nbformat": 4,
 "nbformat_minor": 2
}
